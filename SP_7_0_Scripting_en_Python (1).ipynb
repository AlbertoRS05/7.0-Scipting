{
  "nbformat": 4,
  "nbformat_minor": 0,
  "metadata": {
    "colab": {
      "provenance": []
    },
    "kernelspec": {
      "name": "python3",
      "display_name": "Python 3"
    },
    "language_info": {
      "name": "python"
    }
  },
  "cells": [
    {
      "cell_type": "markdown",
      "source": [
        "\n",
        "\n",
        "1.   Dos motos viajan a diferentes velocidades (**vel1** y **vel2**) y están distanciados por una distancia **dis**. La moto que se encuentra detrás lleva una velocidad mayor que la primera. Se pide realizar un script en python que solicite al usuario la distancia entre las motos en km y las velocidades de las mismas y con ello devolver en cuanto tiempo la moto 2 alcanzará a la moto 1."
      ],
      "metadata": {
        "id": "yU4DEf3HBMru"
      }
    },
    {
      "cell_type": "code",
      "source": [
        "def tiempo_alcance(distancia, velocidad1, velocidad2):\n",
        "    if velocidad2 <= velocidad1:\n",
        "        return \"La moto 2 nunca alcanzará a la moto 1, ya que no es más rápida.\"\n",
        "    tiempo = distancia / (velocidad2 - velocidad1)\n",
        "    return f\"La moto 2 alcanzará a la moto 1 en {tiempo:.2f} horas.\"\n",
        "\n",
        "# Solicitar datos al usuario\n",
        "distancia = float(input(\"Ingrese la distancia entre las motos (km): \"))\n",
        "velocidad1 = float(input(\"Ingrese la velocidad de la moto 1 (km/h): \"))\n",
        "velocidad2 = float(input(\"Ingrese la velocidad de la moto 2 (km/h): \"))\n",
        "\n",
        "# Calcular y mostrar el resultado\n",
        "resultado = tiempo_alcance(distancia, velocidad1, velocidad2)\n",
        "print(resultado)"
      ],
      "metadata": {
        "id": "nLCVu66ZDnpq",
        "colab": {
          "base_uri": "https://localhost:8080/"
        },
        "outputId": "434d82e6-1609-4557-c306-433b00a74762"
      },
      "execution_count": null,
      "outputs": [
        {
          "output_type": "stream",
          "name": "stdout",
          "text": [
            "Ingrese la distancia entre las motos (km): 10\n",
            "Ingrese la velocidad de la moto 1 (km/h): 10\n",
            "Ingrese la velocidad de la moto 2 (km/h): 5\n",
            "La moto 2 nunca alcanzará a la moto 1, ya que no es más rápida.\n"
          ]
        }
      ]
    },
    {
      "cell_type": "markdown",
      "source": [
        "2. El tutor de 2º ASIR esta organizando un viaje a Granada, y requiere determinar cuánto debe cobrar a cada alumno y cuánto debe pagar a la agencia de viajes. La forma de cobrar es la siguiente: si son 100 alumnos o más, el costo por cada alumno es de 65 euros; de 50 a 99 alumnos, el costo es de 70 euros, de 30 a 49, de 95 euros, y si son menos de 30, el costo de la guagua es de 4000 euros, sin importar el número de alumnos. Realice un script que permita determinar el pago a la compañía de guaguas y lo que debe pagar cada alumno por el viaje."
      ],
      "metadata": {
        "id": "bTX1b7swDmVd"
      }
    },
    {
      "cell_type": "code",
      "source": [
        "def calcular_costo_viaje(num_alum):\n",
        "    if num_alum >= 100:\n",
        "        costo_alum = 65\n",
        "    elif num_alum >= 50:\n",
        "        costo_alum = 70\n",
        "    elif num_alum >= 30:\n",
        "        costo_alum = 95\n",
        "    else:\n",
        "        if num_alum <= 0:\n",
        "            return \"No pueden venir menos de 1 alumno\"\n",
        "        costo_total = 4000\n",
        "        costo_alum = costo_total / num_alum\n",
        "        return costo_total, costo_alum\n",
        "\n",
        "    costo_total = costo_alum * num_alum\n",
        "    return costo_total, costo_alum\n",
        "\n",
        "# Que ingrese por pantalla el parámetro\n",
        "num_alum = int(input(\"Ingrese el número de alumnos que van a ir: \"))\n",
        "\n",
        "# Calcular y mostrar el resultado\n",
        "resultado = calcular_costo_viaje(num_alum)\n",
        "if isinstance(resultado, str):\n",
        "    print(resultado)\n",
        "else:\n",
        "    costo_total, costo_alum = resultado\n",
        "    print(f\"El costo total ha sido de {costo_total} euros\")\n",
        "    print(f\"Cada alumno debe poner {costo_alum} euros\")\n"
      ],
      "metadata": {
        "id": "1_orCltzEQhh",
        "colab": {
          "base_uri": "https://localhost:8080/"
        },
        "outputId": "66cb6254-27ae-48af-a9b5-506e99de65d8"
      },
      "execution_count": null,
      "outputs": [
        {
          "output_type": "stream",
          "name": "stdout",
          "text": [
            "Ingrese el número de alumnos que van a ir: 33\n",
            "El costo total ha sido de 3135 euros\n",
            "Cada alumno debe poner 95 euros\n"
          ]
        }
      ]
    },
    {
      "cell_type": "markdown",
      "source": [
        "3. Crea un script que permita adivinar un número. La aplicación genera un número aleatorio del 1 al 100. A continuación va pidiendo números y va respondiendo si el número a adivinar es mayor o menor que el introducido, además de los intentos que te quedan (tienes 10 intentos para acertarlo).  El programa termina cuando se acierta el número (además te dice en cuantos  intentos lo has acertado), si se llega al limite de intentos te muestra el  número que había generado."
      ],
      "metadata": {
        "id": "ksUYFjvcFhpq"
      }
    },
    {
      "cell_type": "code",
      "source": [
        "import random\n",
        "\n",
        "intentosRealizados = 0\n",
        "\n",
        "número = random.randint(1, 100)\n",
        "print('Estoy pensando en un número entre 1 y 100.')\n",
        "\n",
        "while intentosRealizados < 11:\n",
        "    print('Intenta adivinar.')\n",
        "    estimación = input()\n",
        "    estimación = int(estimación)\n",
        "\n",
        "    intentosRealizados = intentosRealizados + 1\n",
        "\n",
        "    if estimación < número:\n",
        "        print('Tu estimación es muy baja.')\n",
        "\n",
        "    if estimación > número:\n",
        "        print('Tu estimación es muy alta.')\n",
        "\n",
        "    if estimación == número:\n",
        "        break\n",
        "\n",
        "if estimación == número:\n",
        "    intentosRealizados = str(intentosRealizados)\n",
        "    print('¡Buen trabajo! ¡Has adivinado mi número en ' + intentosRealizados + ' intentos!')\n",
        "\n",
        "if estimación != número:\n",
        "    número = str(número)\n",
        "    print('Pues no. El número que estaba pensando era ' + número)\n"
      ],
      "metadata": {
        "id": "ePA_F-ggERZq",
        "colab": {
          "base_uri": "https://localhost:8080/"
        },
        "outputId": "4ff7420e-0c88-417d-de4b-0d51e41f8b97"
      },
      "execution_count": null,
      "outputs": [
        {
          "output_type": "stream",
          "name": "stdout",
          "text": [
            "Estoy pensando en un número entre 1 y 20.\n",
            "Intenta adivinar.\n",
            "10\n",
            "Tu estimación es muy baja.\n",
            "Intenta adivinar.\n",
            "15\n",
            "Tu estimación es muy alta.\n",
            "Intenta adivinar.\n",
            "13\n",
            "¡Buen trabajo! ¡Has adivinado mi número en 3 intentos!\n"
          ]
        }
      ]
    },
    {
      "cell_type": "code",
      "source": [
        "import random\n",
        "\n",
        "def juego_adivinanza():\n",
        "    numero_a_adivinar = random.randint(1, 100)\n",
        "    intentos_maximos = 10\n",
        "    intentos_realizados = 0\n",
        "\n",
        "    print(\"\\n¡Bienvenido al juego de adivinanza!\")\n",
        "    nombre = input(\"¿Cómo te llamas?: \")\n",
        "\n",
        "    print(f\"\\nBueno, {nombre}, estoy pensando en un número entre 1 y 100.\")\n",
        "    print(\"Tienes 10 intentos para adivinarlo.\")\n",
        "\n",
        "    while intentos_realizados < intentos_maximos:\n",
        "        print(f\"\\nIntento {intentos_realizados + 1} de {intentos_maximos}\")\n",
        "\n",
        "        try:\n",
        "            estimacion = int(input(\"Introduce tu número: \"))\n",
        "        except ValueError:\n",
        "            print(\"Entrada no válida. Ingresa un número entero.\")\n",
        "            continue\n",
        "\n",
        "        if estimacion < 1 or estimacion > 100:\n",
        "            print(\"Número fuera de rango (1-100). ¡Has perdido un intento!\")\n",
        "        else:\n",
        "            intentos_realizados += 1\n",
        "\n",
        "            if estimacion < numero_a_adivinar:\n",
        "                print(\"Tu estimación es demasiado baja.\")\n",
        "            elif estimacion > numero_a_adivinar:\n",
        "                print(\"Tu estimación es demasiado alta.\")\n",
        "            else:\n",
        "                print(f\"Felicidades, {nombre}! Adivinaste el número en {intentos_realizados} intentos.\")\n",
        "                if intentos_realizados <= 5:\n",
        "                    print(\"¡Increíble! Lo lograste en muy pocos intentos.\")\n",
        "                return\n",
        "\n",
        "        if intentos_realizados % 3 == 0 and intentos_realizados < intentos_maximos:\n",
        "            pista = \"par\" if numero_a_adivinar % 2 == 0 else \"impar\"\n",
        "            print(f\"Pista: El número es {pista}.\")\n",
        "\n",
        "    print(f\"Lo siento, {nombre}. Se te han acabado los intentos.\")\n",
        "    print(f\"El número correcto era {numero_a_adivinar}.\")\n",
        "\n",
        "    jugar_de_nuevo = input(\"\\n¿Quieres jugar otra vez? (s/n): \").lower()\n",
        "    if jugar_de_nuevo == 's':\n",
        "        juego_adivinanza()\n",
        "    else:\n",
        "        print(\"Gracias por jugar. Hasta la próxima.\")\n",
        "\n",
        "# Ejecutar el juego\n",
        "juego_adivinanza()\n"
      ],
      "metadata": {
        "colab": {
          "base_uri": "https://localhost:8080/"
        },
        "id": "X3LSqPzlIvWL",
        "outputId": "70951d4b-6d92-4df8-9b01-81e743967aa5"
      },
      "execution_count": null,
      "outputs": [
        {
          "output_type": "stream",
          "name": "stdout",
          "text": [
            "\n",
            "¡Bienvenido al juego de adivinanza!\n",
            "¿Cómo te llamas?: Alberto\n",
            "\n",
            "Bueno, Alberto, estoy pensando en un número entre 1 y 100.\n",
            "Tienes 10 intentos para adivinarlo.\n",
            "\n",
            "Intento 1 de 10\n",
            "Introduce tu número: 50\n",
            "Tu estimación es demasiado alta.\n",
            "\n",
            "Intento 2 de 10\n",
            "Introduce tu número: 25\n",
            "Tu estimación es demasiado baja.\n",
            "\n",
            "Intento 3 de 10\n",
            "Introduce tu número: 30\n",
            "Tu estimación es demasiado alta.\n",
            "Pista: El número es impar.\n",
            "\n",
            "Intento 4 de 10\n",
            "Introduce tu número: 20\n",
            "Tu estimación es demasiado baja.\n",
            "\n",
            "Intento 5 de 10\n",
            "Introduce tu número: 36\n",
            "Tu estimación es demasiado alta.\n",
            "\n",
            "Intento 6 de 10\n",
            "Introduce tu número: 9\n",
            "Tu estimación es demasiado baja.\n",
            "Pista: El número es impar.\n",
            "\n",
            "Intento 7 de 10\n",
            "Introduce tu número: 27\n",
            "Tu estimación es demasiado baja.\n",
            "\n",
            "Intento 8 de 10\n",
            "Introduce tu número: 29\n",
            "Felicidades, Alberto! Adivinaste el número en 8 intentos.\n"
          ]
        }
      ]
    },
    {
      "cell_type": "markdown",
      "source": [
        "4. Realizar un script que pida una String por teclado que contenga espacios y devuelva el número de palabrás que contenga"
      ],
      "metadata": {
        "id": "a8VUj4CxH5Lh"
      }
    },
    {
      "cell_type": "code",
      "source": [
        "texto = input(\"Ponga la frase que quieras: \")\n",
        "\n",
        "#Dividir la frase por palabras\n",
        "palabras = texto.split()\n",
        "\n",
        "#Contar las palabras\n",
        "contar_palabras = len(palabras)\n",
        "\n",
        "print(f\"El número de palabras en el texto es de: {contar_palabras}\")"
      ],
      "metadata": {
        "id": "XjlclapwESaJ",
        "colab": {
          "base_uri": "https://localhost:8080/"
        },
        "outputId": "7a9ea79f-e87d-4f8d-c7b5-3eacf9e72965"
      },
      "execution_count": null,
      "outputs": [
        {
          "output_type": "stream",
          "name": "stdout",
          "text": [
            "Ponga la frase que quieras: hoy es un dia de mierda\n",
            "El número de palabras en el texto es de: 6\n"
          ]
        }
      ]
    },
    {
      "cell_type": "markdown",
      "source": [
        "5. Realiza un script que se le pasen 5 notas de un alumno por teclado (comprendidas entre 0 y 10). A continuación debe mostrar todas las notas, la nota media, la nota más alta que ha sacado y la menor.\n",
        "\n"
      ],
      "metadata": {
        "id": "hyvKdc75IXd5"
      }
    },
    {
      "cell_type": "code",
      "source": [
        "notas = []\n",
        "for indice in range(1, 6):\n",
        "    nota_valida = False\n",
        "    while not nota_valida:\n",
        "        nota = int(input(\"Introduce la nota %d: \" % indice))\n",
        "        if 0 <= nota <= 10:\n",
        "            nota_valida = True\n",
        "    notas.append(nota)\n",
        "\n",
        "# Muestro resultados\n",
        "print(\"Notas: \", end=\"\")\n",
        "for nota in notas:\n",
        "    print(nota, \" \", end=\"\")\n",
        "print()\n",
        "print(\"Nota media: \", sum(notas) / len(notas))\n",
        "print(\"Nota max: \", max(notas))\n",
        "print(\"Nota min: \", min(notas))\n"
      ],
      "metadata": {
        "id": "nOgqvWORETFB",
        "colab": {
          "base_uri": "https://localhost:8080/"
        },
        "outputId": "db555b1b-fe95-4fa2-e1e6-a2de8298ce0c"
      },
      "execution_count": null,
      "outputs": [
        {
          "output_type": "stream",
          "name": "stdout",
          "text": [
            "Introduce la nota 1: 5\n",
            "Introduce la nota 2: 6\n",
            "Introduce la nota 3: 4\n",
            "Introduce la nota 4: 1\n",
            "Introduce la nota 5: 10\n",
            "Notas: 5  6  4  1  10  \n",
            "Nota media:  5.2\n",
            "Nota max:  10\n",
            "Nota min:  1\n"
          ]
        }
      ]
    },
    {
      "cell_type": "markdown",
      "source": [
        "6. Realizar un script que cree una una tabla bidimensional de 5x5 y nombre 'diagonal'. La Componentes de la tabla en su diagonales deben de ser 1 y el resto 0. Se ha de mostrar el contenido de la tabla por pantalla."
      ],
      "metadata": {
        "id": "ZQxqS603I8S1"
      }
    },
    {
      "cell_type": "code",
      "source": [
        "# Crear la matriz 5x5 con ceros\n",
        "diagonal = [[0 for _ in range(5)] for _ in range(5)]\n",
        "\n",
        "# Rellenar las diagonales con 1\n",
        "for i in range(5):\n",
        "    diagonal[i][i] = 1  # Diagonal principal\n",
        "    diagonal[i][4 - i] = 1  # Diagonal secundaria\n",
        "\n",
        "# Mostrar la matriz\n",
        "print(\"Matriz 'diagonal':\")\n",
        "for fila in diagonal:\n",
        "    print(\" \".join(map(str, fila)))\n"
      ],
      "metadata": {
        "id": "b1tXQaS0ETrp",
        "colab": {
          "base_uri": "https://localhost:8080/"
        },
        "outputId": "610f1e3c-31ea-429d-fa86-b3d80a36fcf2"
      },
      "execution_count": null,
      "outputs": [
        {
          "output_type": "stream",
          "name": "stdout",
          "text": [
            "Matriz 'diagonal':\n",
            "1 0 0 0 1\n",
            "0 1 0 1 0\n",
            "0 0 1 0 0\n",
            "0 1 0 1 0\n",
            "1 0 0 0 1\n"
          ]
        }
      ]
    },
    {
      "cell_type": "markdown",
      "source": [
        "7. Crea un script que pida un número y cree un diccionario cuyas claves sean desde el número 1 hasta el número indicado, y los valores sean los cuadrados de las claves.\n",
        "\n"
      ],
      "metadata": {
        "id": "Ah0c0PB1Nw_d"
      }
    },
    {
      "cell_type": "code",
      "source": [
        "# Pedir un número al usuario\n",
        "num = int(input(\"Ingrese un número: \"))\n",
        "\n",
        "# Crear el diccionario con claves y sus cuadrados como valores\n",
        "diccionario = {i: i**2 for i in range(1, num + 1)}\n",
        "\n",
        "# Mostrar el diccionario\n",
        "print(\"Diccionario generado:\")\n",
        "print(diccionario)\n"
      ],
      "metadata": {
        "id": "OWcoMYqYEUez",
        "colab": {
          "base_uri": "https://localhost:8080/"
        },
        "outputId": "f016e286-092a-4881-bac8-58a5e8ba76c5"
      },
      "execution_count": null,
      "outputs": [
        {
          "output_type": "stream",
          "name": "stdout",
          "text": [
            "Ingrese un número: 10\n",
            "Diccionario generado:\n",
            "{1: 1, 2: 4, 3: 9, 4: 16, 5: 25, 6: 36, 7: 49, 8: 64, 9: 81, 10: 100}\n"
          ]
        }
      ]
    },
    {
      "cell_type": "markdown",
      "source": [
        "8. Crea un script de una agenda en la que se guardan nombres y números de teléfono. En la agenda existirá un menú con las siguientes opciones:\n",
        " * **Añadir/modificar**: Nos pide un nombre. Si el nombre se encuentra en la agenda, debe mostrar el teléfono y, opcionalmente, permitir modificarlo si no es correcto. Si el nombre no se encuentra, debe permitir ingresar el teléfono correspondiente.\n",
        " * **Buscar**: Nos pide una cadena de caracteres, y nos muestras todos los contactos cuyos nombres comiencen por dicha cadena.\n",
        " * **Borrar**: Nos pide un nombre y si existe nos preguntará si queremos borrarlo de la agenda.\n",
        " * **Listar**: Nos muestra todos los contactos de la agenda.\n",
        "\n",
        "  Implementar el script con un diccionario."
      ],
      "metadata": {
        "id": "6vqpqY3DJ88o"
      }
    },
    {
      "cell_type": "code",
      "source": [
        "def mostrar_menu():\n",
        "    print(\"\\nAGENDA TELEFÓNICA\")\n",
        "    print(\"1. Añadir/Modificar contacto\")\n",
        "    print(\"2. Buscar contacto\")\n",
        "    print(\"3. Borrar contacto\")\n",
        "    print(\"4. Listar contactos\")\n",
        "    print(\"5. Salir\")\n",
        "\n",
        "def agregar_modificar(agenda, nombre, telefono):\n",
        "    agenda[nombre] = telefono\n",
        "\n",
        "def buscar(agenda, cadena):\n",
        "    return {nombre: telefono for nombre, telefono in agenda.items() if nombre.startswith(cadena)}\n",
        "\n",
        "def borrar(agenda, nombre):\n",
        "    if nombre in agenda:\n",
        "        del agenda[nombre]\n",
        "        return True\n",
        "    return False\n",
        "\n",
        "def listar(agenda):\n",
        "    return agenda\n",
        "\n",
        "def ejecutar_agenda():\n",
        "    agenda = {}  # Diccionario para almacenar contactos\n",
        "    opcion = None  # Inicializar la opción\n",
        "\n",
        "    while opcion != \"5\":  # Se repite hasta que el usuario elija salir\n",
        "        mostrar_menu()\n",
        "        opcion = input(\"Seleccione una opción (1-5): \")\n",
        "\n",
        "        if opcion == \"1\":  # Añadir/Modificar\n",
        "            nombre = input(\"Ingrese el nombre: \").strip().capitalize()\n",
        "            if nombre in agenda:\n",
        "                print(f\"El número actual de {nombre} es: {agenda[nombre]}\")\n",
        "                modificar = input(\"¿Desea modificarlo? (s/n): \").strip().lower()\n",
        "                if modificar == \"s\":\n",
        "                    telefono = input(\"Ingrese el nuevo número: \").strip()\n",
        "                    agregar_modificar(agenda, nombre, telefono)\n",
        "            else:\n",
        "                telefono = input(\"Ingrese el número: \").strip()\n",
        "                agregar_modificar(agenda, nombre, telefono)\n",
        "\n",
        "        elif opcion == \"2\":  # Buscar\n",
        "            cadena = input(\"Ingrese el inicio del nombre a buscar: \").strip().capitalize()\n",
        "            resultados = buscar(agenda, cadena)\n",
        "            if resultados:\n",
        "                for nombre, telefono in resultados.items():\n",
        "                    print(f\"{nombre}: {telefono}\")\n",
        "            else:\n",
        "                print(\"No se encontraron contactos.\")\n",
        "\n",
        "        elif opcion == \"3\":  # Borrar\n",
        "            nombre = input(\"Ingrese el nombre a borrar: \").strip().capitalize()\n",
        "            if borrar(agenda, nombre):\n",
        "                print(f\"{nombre} ha sido eliminado.\")\n",
        "            else:\n",
        "                print(\"El contacto no existe.\")\n",
        "\n",
        "        elif opcion == \"4\":  # Listar\n",
        "            contactos = listar(agenda)\n",
        "            if contactos:\n",
        "                for nombre, telefono in contactos.items():\n",
        "                    print(f\"{nombre}: {telefono}\")\n",
        "            else:\n",
        "                print(\"La agenda está vacía.\")\n",
        "\n",
        "        elif opcion == \"5\":  # Salir\n",
        "            print(\"Saliendo de la agenda.\")\n",
        "\n",
        "        else:\n",
        "            print(\"Opción no válida.\")\n",
        "\n",
        "# Llamar a la función para ejecutar la agenda\n",
        "ejecutar_agenda()\n"
      ],
      "metadata": {
        "id": "GexEhTmSEVT4",
        "colab": {
          "base_uri": "https://localhost:8080/"
        },
        "outputId": "18c6c551-b3dc-4f93-9aca-28db60425a33"
      },
      "execution_count": null,
      "outputs": [
        {
          "output_type": "stream",
          "name": "stdout",
          "text": [
            "\n",
            "AGENDA TELEFÓNICA\n",
            "1. Añadir/Modificar contacto\n",
            "2. Buscar contacto\n",
            "3. Borrar contacto\n",
            "4. Listar contactos\n",
            "5. Salir\n",
            "Seleccione una opción (1-5): 1\n",
            "Ingrese el nombre: alberto\n",
            "Ingrese el número: 1234\n",
            "\n",
            "AGENDA TELEFÓNICA\n",
            "1. Añadir/Modificar contacto\n",
            "2. Buscar contacto\n",
            "3. Borrar contacto\n",
            "4. Listar contactos\n",
            "5. Salir\n",
            "Seleccione una opción (1-5): 2\n",
            "Ingrese el inicio del nombre a buscar: alberto\n",
            "Alberto: 1234\n",
            "\n",
            "AGENDA TELEFÓNICA\n",
            "1. Añadir/Modificar contacto\n",
            "2. Buscar contacto\n",
            "3. Borrar contacto\n",
            "4. Listar contactos\n",
            "5. Salir\n",
            "Seleccione una opción (1-5): 3\n",
            "Ingrese el nombre a borrar: alberto\n",
            "Alberto ha sido eliminado.\n",
            "\n",
            "AGENDA TELEFÓNICA\n",
            "1. Añadir/Modificar contacto\n",
            "2. Buscar contacto\n",
            "3. Borrar contacto\n",
            "4. Listar contactos\n",
            "5. Salir\n",
            "Seleccione una opción (1-5): 4\n",
            "La agenda está vacía.\n",
            "\n",
            "AGENDA TELEFÓNICA\n",
            "1. Añadir/Modificar contacto\n",
            "2. Buscar contacto\n",
            "3. Borrar contacto\n",
            "4. Listar contactos\n",
            "5. Salir\n",
            "Seleccione una opción (1-5): 1\n",
            "Ingrese el nombre: alberto\n",
            "Ingrese el número: 4\n",
            "\n",
            "AGENDA TELEFÓNICA\n",
            "1. Añadir/Modificar contacto\n",
            "2. Buscar contacto\n",
            "3. Borrar contacto\n",
            "4. Listar contactos\n",
            "5. Salir\n",
            "Seleccione una opción (1-5): 4\n",
            "Alberto: 4\n",
            "\n",
            "AGENDA TELEFÓNICA\n",
            "1. Añadir/Modificar contacto\n",
            "2. Buscar contacto\n",
            "3. Borrar contacto\n",
            "4. Listar contactos\n",
            "5. Salir\n",
            "Seleccione una opción (1-5): 5\n",
            "Saliendo de la agenda.\n"
          ]
        }
      ]
    },
    {
      "cell_type": "markdown",
      "source": [
        "9. Crear un script que al introducir una fecha nos diga a que día juliano corresponde. El día juliano correspondiente a una fecha es un número entero que indica los días que han transcurrido desde el 1 de enero.Para ello debes de hacer las siguientes funciones:\n",
        " * **LeerFecha**: Lee por teclado el día, mes y el año.\n",
        " * **DiasDelMes**: Recibe un mes y un año y devuelve el número de días\n",
        " * **EsBisiesto**: Recibido un año nos dice si es bisiesto o no.\n",
        " * **Calcular_Dia_Juliano**: Recibe una fecha y nos devuelve el día juliano."
      ],
      "metadata": {
        "id": "-PHluINDPCH5"
      }
    },
    {
      "cell_type": "code",
      "source": [
        "def LeerFecha():\n",
        "    dia = int(input(\"Introduce el día: \"))\n",
        "    mes = int(input(\"Introduce el mes: \"))\n",
        "    año = int(input(\"Introduce el año: \"))\n",
        "    return dia, mes, año\n",
        "\n",
        "def EsBisiesto(año):\n",
        "    \"\"\"Determina si un año es bisiesto\"\"\"\n",
        "    return (año % 4 == 0 and año % 100 != 0) or (año % 400 == 0)\n",
        "\n",
        "def DiasDelMes(mes, año):\n",
        "    \"\"\"Devuelve la cantidad de días de un mes dado en un año específico\"\"\"\n",
        "    if mes in [1, 3, 5, 7, 8, 10, 12]:\n",
        "        return 31\n",
        "    elif mes in [4, 6, 9, 11]:\n",
        "        return 30\n",
        "    elif mes == 2:\n",
        "        return 29 if EsBisiesto(año) else 28\n",
        "    else:\n",
        "        return -1  # Valor inválido\n",
        "\n",
        "def Calcular_Dia_Juliano(dia, mes, año):\n",
        "    \"\"\"Calcula el día juliano en base a una fecha dada\"\"\"\n",
        "    total_dias = dia\n",
        "    for m in range(1, mes):\n",
        "        total_dias += DiasDelMes(m, año)\n",
        "    return total_dias\n",
        "\n",
        "# Programa principal\n",
        "fecha = LeerFecha()\n",
        "dia_juliano = Calcular_Dia_Juliano(fecha[0], fecha[1], fecha[2])\n",
        "print(\"El día juliano correspondiente a la fecha es:\", dia_juliano)\n"
      ],
      "metadata": {
        "id": "EbNdAbeBEV5g",
        "colab": {
          "base_uri": "https://localhost:8080/"
        },
        "outputId": "207a064f-4603-432b-e4a9-ab529420523d"
      },
      "execution_count": null,
      "outputs": [
        {
          "output_type": "stream",
          "name": "stdout",
          "text": [
            "Introduce el día: 20\n",
            "Introduce el mes: 10\n",
            "Introduce el año: 2025\n",
            "El día juliano correspondiente a la fecha es: 293\n"
          ]
        }
      ]
    },
    {
      "cell_type": "markdown",
      "source": [
        "\n",
        "10. Función CalcularMCD: Recibe dos números y devuelve el MCD utilizando el método de Euclides.\n",
        "El método de Euclides es el siguiente:\n",
        " * Se divide el número mayor entre el menor.\n",
        " * Si la división es exacta, el divisor es el MCD.\n",
        " * Si la división no es exacta, dividimos el divisor entre el resto obtenido y se continúa de esta forma hasta obtener una división exacta, siendo el último divisor el MCD.\n"
      ],
      "metadata": {
        "id": "xQCJ8l2QPU3m"
      }
    },
    {
      "cell_type": "code",
      "source": [],
      "metadata": {
        "id": "KZWQBYhdEWow"
      },
      "execution_count": null,
      "outputs": []
    },
    {
      "cell_type": "code",
      "source": [
        "import numpy as np\n",
        "\n",
        "# Crear una matriz 5x5 con valores progresivos\n",
        "def generar_matriz_5x5():\n",
        "    valor = 1  # Comienza en 1\n",
        "    matriz = np.zeros((5, 5))  # Matriz vacía de 5x5\n",
        "\n",
        "    for i in range(5):\n",
        "        for j in range(5):\n",
        "            matriz[i, j] = valor\n",
        "            valor += 1  # Incremento progresivo\n",
        "\n",
        "    return matriz\n",
        "\n",
        "# Obtener la matriz\n",
        "matriz = generar_matriz_5x5()\n",
        "\n",
        "# Calcular el determinante\n",
        "determinante = np.linalg.det(matriz)\n",
        "\n",
        "# Imprimir matriz y determinante\n",
        "print(\"Matriz generada:\")\n",
        "print(matriz)\n",
        "print(f\"\\nDeterminante de la matriz: {determinante:.2f}\")\n"
      ],
      "metadata": {
        "id": "yr2d3kDHuFx9",
        "outputId": "93fe91cc-d956-455d-d768-277b8654bc21",
        "colab": {
          "base_uri": "https://localhost:8080/"
        }
      },
      "execution_count": null,
      "outputs": [
        {
          "output_type": "stream",
          "name": "stdout",
          "text": [
            "Matriz generada:\n",
            "[[ 1.  2.  3.  4.  5.]\n",
            " [ 6.  7.  8.  9. 10.]\n",
            " [11. 12. 13. 14. 15.]\n",
            " [16. 17. 18. 19. 20.]\n",
            " [21. 22. 23. 24. 25.]]\n",
            "\n",
            "Determinante de la matriz: 0.00\n"
          ]
        }
      ]
    },
    {
      "cell_type": "code",
      "source": [],
      "metadata": {
        "id": "bhwa2kXTPrkJ"
      },
      "execution_count": null,
      "outputs": []
    },
    {
      "cell_type": "markdown",
      "source": [
        "https://plataforma.josedomingo.org/pledin/cursos/programacion_python3/curso/u29/"
      ],
      "metadata": {
        "id": "3dFs_Wi0Pq72"
      }
    }
  ]
}